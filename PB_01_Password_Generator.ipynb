{
 "cells": [
  {
   "cell_type": "code",
   "execution_count": 1,
   "metadata": {},
   "outputs": [],
   "source": [
    "import random\n"
   ]
  },
  {
   "cell_type": "code",
   "execution_count": 2,
   "metadata": {},
   "outputs": [],
   "source": [
    "chars=\"abcdefghijklmnopqstuvwxyzABCDEFGHIJKLMNOPQRSTUWXYZ1234567890,./!$#@%&^?\""
   ]
  },
  {
   "cell_type": "code",
   "execution_count": 7,
   "metadata": {},
   "outputs": [
    {
     "name": "stdout",
     "output_type": "stream",
     "text": [
      "Length: 100\n",
      "How many passowords: 25\n",
      "Here is the password:  vL6&GjMoZl%0T!&NMg41^jixBKRjKM9i9Xu3GRtptLRtiztbmS&IXN&CvSO&WuAoAT%Rbu2I%q6HO3il3sTwNYtcpbqEW2,iRwBi\n",
      "Here is the password:  LY7,ZqOuiDoTyh7a,27!N$^YaHAh@uanFmuP8&Oy!LiEhUM8gTs8esPgKkvgk9g6LuCGT%aKBzUOMp//kfPXqUcIHcb#!FnSuo7.\n",
      "Here is the password:  $omMwf1OW/ywlyqIXhzRxqxYDny&PTt#DFa^Z7!f2N&d#j@e64Pq!1dmSeaddyg^e8!QdODpPZD/zRQ,L%#v1Qfd1%NZEQy^Zq5D\n",
      "Here is the password:  86m53HA9/zBlmeMYWq&Mvpn.PB6WMXldD^8z7Tee742u?CZwBdq,RE$7M6JKaSfk8vC#hCOyLcy9YjXC1dcudDvX0c,DA8t0$Pf^\n",
      "Here is the password:  7mbCZ4wFyLjILM,pD$sv8.uv9IWcuWRY48gwtP.106&#PZY4bv#!Xb/Dj?ogCYBnPAUQnQ76xl$5vty3LFj1k&XZ5qlK/q#a,DM.\n",
      "Here is the password:  5qIAECs1BXmoaNez6@@B1zKkJ0DSgu,@hIS5NSTzn&2XN^kHh2GmghGipOmwdkmPEIoXX,jWIE&QNABwfbXBSyKvT5Ra4gh0d4Xw\n",
      "Here is the password:  oyNM4lK%.Ikk50^S41&acjpy.l?kezRo^@?,FpvyvHYf3s,fv@g%qU,cNE^zfOMxy4^/5g#vg1cEN8UXMZf!qEoeZ1wtn9flCj4M\n",
      "Here is the password:  @hq08d1SwTRj#36zozPEskpuhDCBZ91l,I@4qy7W9.MR0iFIhoTQEq8jB5lbGYfM$.6RK3Mi0iT8iSsz5sIctTgp^tR2AcbR83xe\n",
      "Here is the password:  wl,DybBmgsy8oDgd8ez&yA$Ad.uX1sb6SO%9IZx#A3ldFkE0iPQdSq%7T3gv^t!XglA&DITiKh,aP919ivPQ6Ku/XcTfzwDtKGHY\n",
      "Here is the password:  F^@aPWMn/4f5x316U!ZW3,d8h8xM,svXFb^!%7Ny6ZjTuZ!/C9De7!BXQiR1m?Mhz.B!%Ciwn98%lRQc3ukwJSgB%^FQn.kq!$xM\n",
      "Here is the password:  wdb.NNto%z4DkoDm8QZtug8xeb2KRXbkPY2.&2N?1eIft6M^n3W@cXt%?w/!@QuNj1lNGoWWNo7NEOSLfITbKNET18130$p6BUnN\n",
      "Here is the password:  TO7j0lPpb^qxdsqO^xDl8K.1mMCDzLgL2/!Pz8SERWX7uic8tnLI%adBmf9AKhE&Sw.WMSe3dCj?@PiJk8wSh8UnGLM38GJ2Eb!w\n",
      "Here is the password:  MUuT8XGET9MhDZ3lKHy/bQqY3l.K5&lJZSd.#GdSRiX@bf9vxo^sgPb#M2QI,5U3WBNu6tHXOfxl,luOJzftiSzem%wWluZumUix\n",
      "Here is the password:  keq3m!?m?alt7fGgn$.40KBo&w%m3ou3sA%ISKi2i^pmqWQ!#OF0!in&RRSX!3vlCbC3iPL3pq2UR#3OO&Sdl1pX3i@Ll$jyznw7\n",
      "Here is the password:  Z0u,mIMq$DbanoQXTqQ,CH%Y8^.gUbYHEzihaTWkc%8?DWoKUvx6KxKeTHR#sDJyc.bk9.qtPm#oM85sCaEbwHQA%1.Qm4kvlWP5\n",
      "Here is the password:  .3Hd6qkHS5JXAny4G2I/cH3oU5o^qlI%7SUTLaWw09NkoE1yLQXaR6J.#/xE9^LYqcK1bjeDTtPzdAO3BK5HoNSS%K4M^mBSP1##\n",
      "Here is the password:  SQB?ecGPjTA,h!j7b/EBksuKXRz6@jyEcu5J^O4..7umWaOaeiXUPUGf3TCP9MgiB4%AaMg&WyYDom6l!v5ps22ANaUkEcj0Ms26\n",
      "Here is the password:  fkDx3h1ePE%YN7m,sfT0W&TlW0GTzN1Z&l,SU%FmsEI,^PZh.,Cz$Ste!1uhisi/t15,3R?#%sKXYBx5RSAzW8RE8mNh/sgM!&OM\n",
      "Here is the password:  ,qDW&hqwaj%@Qta0/dZY5d7W$J#I2B6Q0l,WQ^b6cGG^L5H$C!H#A5kKDUvPyS4tYU3Y/G/1JJUypxKsX,lJI$2yMYHsFha$$!yf\n",
      "Here is the password:  hyb%T4WdoDWpnAd?cFI.&^M/kf29OKEc$RH#Cs8lj6aKC.!6s2##WbaRy?BJUgtq^MAS5oBPMK42$xzajKNgIXTozy4q8UIqvjGP\n",
      "Here is the password:  %Hfg/j!Lfeh009Ha3QNWKecixc?XZ$XNzSqkDbw%8#pnPjp0dB^47Ng#^oP2SZFXU$J!jN,Ybw^tYOQ#A5x^%hwxIHuZ^Xy/F55H\n",
      "Here is the password:  Y,A/8ffTeXSEymY#LRX$#1!A7CRdB.B9H^UZ!o8^BjfMJ!3w.9AYUUDfGfCMJ?GzC00.bLGsOPLeSMPlvs7G77jEd&hWeOpiF&Ad\n",
      "Here is the password:  G!tN6#,f/wObdpAhs!&dSW%RK2TMAF.O3/pe3%0Ykv&aI0eG8e12HTFhO&#B/ZqF,XjwJ1xJLAieOH3,ob1Bswsv//z/zn!R57uc\n",
      "Here is the password:  QSOwtkGmmJ&4YOuxWiw@0FX7M37@4%CM7^eLjqyQ!g1K&GJzQBEcKaS.ti?YxiyMG&M6mS7.DT!FltKSh4k09!5oO0,GR!dSQ.yw\n",
      "Here is the password:  M@lj!vaFCSz7bwE6LibqJ9RYcn@RaFiCI0^KpnQj!,TOn7K7,tXi%@2T?,jX5O5P4d0^pKKGiRuWKkAlN%4I$3YsiNgPy8AbcW@F\n"
     ]
    }
   ],
   "source": [
    "while(True):\n",
    "    len=int(input(\"Length: \"))\n",
    "    count=int(input(\"How many passowords: \"))\n",
    "    for x in range(0,count):\n",
    "        passw=\"\"\n",
    "        for x in range(0,len):\n",
    "            pass_char= random.choice(chars)\n",
    "            passw=passw+pass_char\n",
    "        print(\"Here is the password: \",passw)\n",
    "    break"
   ]
  },
  {
   "cell_type": "code",
   "execution_count": null,
   "metadata": {},
   "outputs": [],
   "source": []
  }
 ],
 "metadata": {
  "kernelspec": {
   "display_name": "Python 3",
   "language": "python",
   "name": "python3"
  },
  "language_info": {
   "codemirror_mode": {
    "name": "ipython",
    "version": 3
   },
   "file_extension": ".py",
   "mimetype": "text/x-python",
   "name": "python",
   "nbconvert_exporter": "python",
   "pygments_lexer": "ipython3",
   "version": "3.8.5"
  }
 },
 "nbformat": 4,
 "nbformat_minor": 4
}
